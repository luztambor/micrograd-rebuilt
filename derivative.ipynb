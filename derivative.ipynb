{
 "cells": [
  {
   "cell_type": "code",
   "execution_count": 3,
   "id": "2a353faf-bd46-4c35-b425-1bcf62a4f4ef",
   "metadata": {
    "tags": []
   },
   "outputs": [],
   "source": [
    "import math\n",
    "import numpy as np\n",
    "import matplotlib.pyplot as plt\n",
    "%matplotlib inline"
   ]
  },
  {
   "cell_type": "code",
   "execution_count": 4,
   "id": "ad21f934-579a-41eb-9b1c-e8ef9ab896ec",
   "metadata": {
    "tags": []
   },
   "outputs": [],
   "source": [
    "def f(x):\n",
    "    return 3*x**2 - 4*x + 5"
   ]
  },
  {
   "cell_type": "code",
   "execution_count": 5,
   "id": "1d5b9f78-3d10-4c60-9afb-3a474b5c4b16",
   "metadata": {
    "tags": []
   },
   "outputs": [
    {
     "data": {
      "text/plain": [
       "20.0"
      ]
     },
     "execution_count": 5,
     "metadata": {},
     "output_type": "execute_result"
    }
   ],
   "source": [
    "f(3.0)"
   ]
  },
  {
   "cell_type": "code",
   "execution_count": 6,
   "id": "682e6eea-35e0-4e06-a134-f830fe3ea55c",
   "metadata": {
    "tags": []
   },
   "outputs": [
    {
     "data": {
      "text/plain": [
       "[<matplotlib.lines.Line2D at 0x7fb312d71c50>]"
      ]
     },
     "execution_count": 6,
     "metadata": {},
     "output_type": "execute_result"
    },
    {
     "data": {
      "image/png": "[encoded data removed]",
      "text/plain": [
       "<Figure size 640x480 with 1 Axes>"
      ]
     },
     "metadata": {},
     "output_type": "display_data"
    }
   ],
   "source": [
    "xs = np.arange(-5, 5, 0.25)\n",
    "ys = f(xs)\n",
    "plt.plot(xs, ys)"
   ]
  },
  {
   "cell_type": "code",
   "execution_count": 7,
   "id": "fcb020ff-651b-4b0a-bfed-5c15bdd89dcb",
   "metadata": {
    "tags": []
   },
   "outputs": [
    {
     "data": {
      "text/plain": [
       "2.9753977059954195e-07"
      ]
     },
     "execution_count": 7,
     "metadata": {},
     "output_type": "execute_result"
    }
   ],
   "source": [
    "h = 0.0000001\n",
    "x = 2/3\n",
    "(f(x + h) - f(x))/h\n",
    "# simply a demonstrative function, inflection at x = 2/3"
   ]
  },
  {
   "cell_type": "code",
   "execution_count": 8,
   "id": "c35476e7-019e-499b-b5e2-d9a25dc255e2",
   "metadata": {
    "tags": []
   },
   "outputs": [
    {
     "name": "stdout",
     "output_type": "stream",
     "text": [
      "4.0\n"
     ]
    }
   ],
   "source": [
    "# added complexity\n",
    "a = 2.0\n",
    "b = -3.0\n",
    "c = 10.0\n",
    "d = a*b + c\n",
    "print(d)"
   ]
  },
  {
   "cell_type": "code",
   "execution_count": 9,
   "id": "be3363e8-6a97-4f47-a5f5-e79b8c376771",
   "metadata": {
    "tags": []
   },
   "outputs": [
    {
     "name": "stdout",
     "output_type": "stream",
     "text": [
      "d1 4.0\n",
      "d2 3.999699999999999\n",
      "slope -3.000000000010772\n"
     ]
    }
   ],
   "source": [
    "h = 0.0001\n",
    "\n",
    "#inputs\n",
    "a = 2.0\n",
    "b = -3.0\n",
    "c = 10.0\n",
    "\n",
    "# demonstrating slope\n",
    "d1 = a*b + c\n",
    "a += h\n",
    "d2 = a*b + c\n",
    "\n",
    "print('d1', d1)\n",
    "print('d2', d2)\n",
    "print('slope', (d2 - d1)/h)"
   ]
  },
  {
   "cell_type": "code",
   "execution_count": 151,
   "id": "f1e5f7d8-51bf-4ec2-9ae5-20d4a18d8b57",
   "metadata": {
    "tags": []
   },
   "outputs": [
    {
     "data": {
      "text/plain": [
       "Value(data=4.0)"
      ]
     },
     "execution_count": 151,
     "metadata": {},
     "output_type": "execute_result"
    }
   ],
   "source": [
    "# define a skeleton Value class\n",
    "class Value:\n",
    "    \n",
    "    def __init__(self, data, _children=(), _op='', label=''):\n",
    "        self.data = data\n",
    "        self.grad = 0.0\n",
    "        self._backward = lambda: None\n",
    "        self._prev = set(_children)\n",
    "        self._op = _op\n",
    "        self.label = label\n",
    "    \n",
    "    def __repr__(self):\n",
    "        return f\"Value(data={self.data})\"\n",
    "    \n",
    "    #overload arithmetic operators    \n",
    "    def __add__(self, other):\n",
    "        other = other if isinstance(other, Value) else Value(other)\n",
    "        out = Value(self.data + other.data, (self, other), '+' )\n",
    "        \n",
    "        def _backward():\n",
    "            self.grad += 1.0 * out.grad # from chain rule\n",
    "            other.grad += 1.0 * out.grad\n",
    "        out._backward = _backward\n",
    "        \n",
    "        return out\n",
    "    \n",
    "    def __mul__(self, other):\n",
    "        other = other if isinstance(other, Value) else Value(other)\n",
    "        out = Value(self.data * other.data, (self, other), '*' )\n",
    "        \n",
    "        def _backward():\n",
    "            self.grad += other.data * out.grad # chain rule   \n",
    "            other.grad += self.data * out.grad\n",
    "        out._backward = _backward\n",
    "        \n",
    "        return out\n",
    "    \n",
    "    def __pow__(self, other):\n",
    "        assert isinstance(other, (int, float)), \"only supports int/float powers atm\"\n",
    "        out = Value(self.data**other, (self, ), f'**{other}')\n",
    "        \n",
    "        def _backward():\n",
    "            self.grad += other * (self.data ** (other - 1)) * out.grad # calculus power rule plus chain rule :-)\n",
    "        out._backward = _backward\n",
    "        return out\n",
    "    \n",
    "    def __rmul__(self, other): # fallback for cases such as 2 * Value\n",
    "        return self * other\n",
    "    \n",
    "    def __truediv__(self, other): # self / other\n",
    "        return self * other**-1\n",
    "    \n",
    "    def __neg__(self): # -self\n",
    "        return self * -1\n",
    "    \n",
    "    def __sub__(self, other): # self - other\n",
    "        return self + (-other)\n",
    "    \n",
    "    #implement tanh\n",
    "    def tanh(self):\n",
    "        x = self.data\n",
    "        t = (math.exp(2*x) - 1) / (math.exp(2*x) + 1)\n",
    "        out = Value(t, (self, ), 'tanh')\n",
    "        \n",
    "        def _backward():\n",
    "            self.grad += (1 - t**2) * out.grad # more chain rule\n",
    "        out._backward = _backward\n",
    "        \n",
    "        return out\n",
    "    \n",
    "    def exp(self):\n",
    "        x = self.data\n",
    "        out = Value(math.exp(x), (self, ), 'exp')\n",
    "        \n",
    "        def _backward():\n",
    "            self.grad += out.data * out.grad\n",
    "        out._backward = _backward\n",
    "        return out\n",
    "    \n",
    "\n",
    "    def backward(self):\n",
    "        \n",
    "        topo = []\n",
    "        visited = set()\n",
    "        \n",
    "        def build_topo(v):\n",
    "            if v not in visited:\n",
    "                visited.add(v)\n",
    "                for child in v._prev:\n",
    "                    build_topo(child)\n",
    "                topo.append(v)\n",
    "        build_topo(self)\n",
    "            \n",
    "        self.grad = 1.0\n",
    "        for node in reversed(topo):\n",
    "            node._backward()\n",
    "    \n",
    "a = Value(2.0, label = 'a')\n",
    "b = Value(-3.0, label = 'b')\n",
    "c = Value(10.0, label = 'c')\n",
    "e = a*b; e.label = 'e'\n",
    "d = e + c; d.label = 'd'\n",
    "f = Value(-2.0, label = 'f')\n",
    "L = d * f; L.label = 'L'\n",
    "d"
   ]
  },
  {
   "cell_type": "code",
   "execution_count": 142,
   "id": "bedb17a9-a7c0-42d1-9d3d-bf154b751366",
   "metadata": {
    "tags": []
   },
   "outputs": [
    {
     "data": {
      "text/plain": [
       "Value(data=5.0)"
      ]
     },
     "execution_count": 142,
     "metadata": {},
     "output_type": "execute_result"
    }
   ],
   "source": [
    "2 * a + 1"
   ]
  },
  {
   "cell_type": "code",
   "execution_count": 150,
   "id": "79936213-911d-41d4-aa01-2425d820bdc5",
   "metadata": {
    "tags": []
   },
   "outputs": [
    {
     "data": {
      "text/plain": [
       "Value(data=-0.6666666666666666)"
      ]
     },
     "execution_count": 150,
     "metadata": {},
     "output_type": "execute_result"
    }
   ],
   "source": [
    "a/b"
   ]
  },
  {
   "cell_type": "code",
   "execution_count": 13,
   "id": "d14f0b6b-a303-45e8-b3af-ccec55cdce10",
   "metadata": {
    "tags": []
   },
   "outputs": [],
   "source": [
    "# tracking _prev and _op allow us to know exactly which values\n",
    "# and operation led to the current Value"
   ]
  },
  {
   "cell_type": "code",
   "execution_count": 18,
   "id": "8a31840f-50d5-4152-8696-72c045628cdf",
   "metadata": {
    "tags": []
   },
   "outputs": [],
   "source": [
    "# create helper viz functions using graphviz api\n",
    "from graphviz import Digraph"
   ]
  },
  {
   "cell_type": "code",
   "execution_count": 27,
   "id": "3679c449-66aa-453c-ae29-2b5c54f6f6e1",
   "metadata": {
    "tags": []
   },
   "outputs": [],
   "source": [
    " def trace(root):\n",
    "  # build a set of all nodes and edges in a graph\n",
    "  nodes, edges = set(), set()\n",
    "  def build(v):\n",
    "    if v not in nodes:\n",
    "      nodes.add(v)\n",
    "      for child in v._prev:\n",
    "        edges.add((child, v))\n",
    "        build(child)\n",
    "  build(root)\n",
    "  return nodes, edges\n",
    "\n",
    "def draw_dot(root):\n",
    "  dot = Digraph(format='svg', graph_attr={'rankdir': 'LR'}) # LR = left to right\n",
    "  \n",
    "  nodes, edges = trace(root)\n",
    "  for n in nodes:\n",
    "    uid = str(id(n))\n",
    "    # for any val in graph, create rectangular ('record') node\n",
    "    dot.node(name = uid, label = \"{ %s | data %.4f | grad %.4f }\" % (n.label, n.data, n.grad ), shape='record')\n",
    "    if n._op:\n",
    "      # if this val is a result of an operation, create an op node for it\n",
    "      dot.node(name = uid + n._op, label = n._op)\n",
    "      # then connect this node to it\n",
    "      dot.edge(uid + n._op, uid)\n",
    "\n",
    "  for n1, n2 in edges:\n",
    "    # connect n1 to the op node of n2\n",
    "    dot.edge(str(id(n1)), str(id(n2)) + n2._op)\n",
    "\n",
    "  return dot"
   ]
  },
  {
   "cell_type": "code",
   "execution_count": 47,
   "id": "d87dee41-09c5-4ae0-9b64-2aae3b0aa019",
   "metadata": {
    "tags": []
   },
   "outputs": [
    {
     "data": {
      "image/svg+xml": [
       "<?xml version=\"1.0\" encoding=\"UTF-8\" standalone=\"no\"?>\n",
       "<!DOCTYPE svg PUBLIC \"-//W3C//DTD SVG 1.1//EN\"\n",
       " \"http://www.w3.org/Graphics/SVG/1.1/DTD/svg11.dtd\">\n",
       "<!-- Generated by graphviz version 5.0.0 (0)\n",
       " -->\n",
       "<!-- Pages: 1 -->\n",
       "<svg width=\"1343pt\" height=\"128pt\"\n",
       " viewBox=\"0.00 0.00 1343.00 128.00\" xmlns=\"http://www.w3.org/2000/svg\" xmlns:xlink=\"http://www.w3.org/1999/xlink\">\n",
       "<g id=\"graph0\" class=\"graph\" transform=\"scale(1 1) rotate(0) translate(4 124)\">\n",
       "<polygon fill=\"white\" stroke=\"transparent\" points=\"-4,4 -4,-124 1339,-124 1339,4 -4,4\"/>\n",
       "<!-- 140407050379792 -->\n",
       "<g id=\"node1\" class=\"node\">\n",
       "<title>140407050379792</title>\n",
       "<polygon fill=\"none\" stroke=\"black\" points=\"736,-27.5 736,-63.5 972,-63.5 972,-27.5 736,-27.5\"/>\n",
       "<text text-anchor=\"middle\" x=\"749\" y=\"-41.8\" font-family=\"Times,serif\" font-size=\"14.00\">d</text>\n",
       "<polyline fill=\"none\" stroke=\"black\" points=\"762,-27.5 762,-63.5 \"/>\n",
       "<text text-anchor=\"middle\" x=\"813\" y=\"-41.8\" font-family=\"Times,serif\" font-size=\"14.00\">data 4.0000</text>\n",
       "<polyline fill=\"none\" stroke=\"black\" points=\"864,-27.5 864,-63.5 \"/>\n",
       "<text text-anchor=\"middle\" x=\"918\" y=\"-41.8\" font-family=\"Times,serif\" font-size=\"14.00\">grad &#45;2.0000</text>\n",
       "</g>\n",
       "<!-- 140407050379920* -->\n",
       "<g id=\"node4\" class=\"node\">\n",
       "<title>140407050379920*</title>\n",
       "<ellipse fill=\"none\" stroke=\"black\" cx=\"1035\" cy=\"-72.5\" rx=\"27\" ry=\"18\"/>\n",
       "<text text-anchor=\"middle\" x=\"1035\" y=\"-68.8\" font-family=\"Times,serif\" font-size=\"14.00\">*</text>\n",
       "</g>\n",
       "<!-- 140407050379792&#45;&gt;140407050379920* -->\n",
       "<g id=\"edge5\" class=\"edge\">\n",
       "<title>140407050379792&#45;&gt;140407050379920*</title>\n",
       "<path fill=\"none\" stroke=\"black\" d=\"M972.15,-63.17C981.53,-64.58 990.46,-65.93 998.46,-67.14\"/>\n",
       "<polygon fill=\"black\" stroke=\"black\" points=\"998.01,-70.61 1008.42,-68.64 999.06,-63.69 998.01,-70.61\"/>\n",
       "</g>\n",
       "<!-- 140407050379792+ -->\n",
       "<g id=\"node2\" class=\"node\">\n",
       "<title>140407050379792+</title>\n",
       "<ellipse fill=\"none\" stroke=\"black\" cx=\"673\" cy=\"-45.5\" rx=\"27\" ry=\"18\"/>\n",
       "<text text-anchor=\"middle\" x=\"673\" y=\"-41.8\" font-family=\"Times,serif\" font-size=\"14.00\">+</text>\n",
       "</g>\n",
       "<!-- 140407050379792+&#45;&gt;140407050379792 -->\n",
       "<g id=\"edge1\" class=\"edge\">\n",
       "<title>140407050379792+&#45;&gt;140407050379792</title>\n",
       "<path fill=\"none\" stroke=\"black\" d=\"M700.03,-45.5C707.58,-45.5 716.38,-45.5 725.87,-45.5\"/>\n",
       "<polygon fill=\"black\" stroke=\"black\" points=\"725.99,-49 735.99,-45.5 725.99,-42 725.99,-49\"/>\n",
       "</g>\n",
       "<!-- 140407050379920 -->\n",
       "<g id=\"node3\" class=\"node\">\n",
       "<title>140407050379920</title>\n",
       "<polygon fill=\"none\" stroke=\"black\" points=\"1098,-54.5 1098,-90.5 1335,-90.5 1335,-54.5 1098,-54.5\"/>\n",
       "<text text-anchor=\"middle\" x=\"1111\" y=\"-68.8\" font-family=\"Times,serif\" font-size=\"14.00\">L</text>\n",
       "<polyline fill=\"none\" stroke=\"black\" points=\"1124,-54.5 1124,-90.5 \"/>\n",
       "<text text-anchor=\"middle\" x=\"1177.5\" y=\"-68.8\" font-family=\"Times,serif\" font-size=\"14.00\">data &#45;8.0000</text>\n",
       "<polyline fill=\"none\" stroke=\"black\" points=\"1231,-54.5 1231,-90.5 \"/>\n",
       "<text text-anchor=\"middle\" x=\"1283\" y=\"-68.8\" font-family=\"Times,serif\" font-size=\"14.00\">grad 1.0000</text>\n",
       "</g>\n",
       "<!-- 140407050379920*&#45;&gt;140407050379920 -->\n",
       "<g id=\"edge2\" class=\"edge\">\n",
       "<title>140407050379920*&#45;&gt;140407050379920</title>\n",
       "<path fill=\"none\" stroke=\"black\" d=\"M1062.1,-72.5C1069.61,-72.5 1078.33,-72.5 1087.75,-72.5\"/>\n",
       "<polygon fill=\"black\" stroke=\"black\" points=\"1087.78,-76 1097.78,-72.5 1087.78,-69 1087.78,-76\"/>\n",
       "</g>\n",
       "<!-- 140407050214096 -->\n",
       "<g id=\"node5\" class=\"node\">\n",
       "<title>140407050214096</title>\n",
       "<polygon fill=\"none\" stroke=\"black\" points=\"0,-83.5 0,-119.5 241,-119.5 241,-83.5 0,-83.5\"/>\n",
       "<text text-anchor=\"middle\" x=\"13\" y=\"-97.8\" font-family=\"Times,serif\" font-size=\"14.00\">b</text>\n",
       "<polyline fill=\"none\" stroke=\"black\" points=\"26,-83.5 26,-119.5 \"/>\n",
       "<text text-anchor=\"middle\" x=\"79.5\" y=\"-97.8\" font-family=\"Times,serif\" font-size=\"14.00\">data &#45;3.0000</text>\n",
       "<polyline fill=\"none\" stroke=\"black\" points=\"133,-83.5 133,-119.5 \"/>\n",
       "<text text-anchor=\"middle\" x=\"187\" y=\"-97.8\" font-family=\"Times,serif\" font-size=\"14.00\">grad &#45;4.0000</text>\n",
       "</g>\n",
       "<!-- 140407050379664* -->\n",
       "<g id=\"node7\" class=\"node\">\n",
       "<title>140407050379664*</title>\n",
       "<ellipse fill=\"none\" stroke=\"black\" cx=\"304\" cy=\"-73.5\" rx=\"27\" ry=\"18\"/>\n",
       "<text text-anchor=\"middle\" x=\"304\" y=\"-69.8\" font-family=\"Times,serif\" font-size=\"14.00\">*</text>\n",
       "</g>\n",
       "<!-- 140407050214096&#45;&gt;140407050379664* -->\n",
       "<g id=\"edge7\" class=\"edge\">\n",
       "<title>140407050214096&#45;&gt;140407050379664*</title>\n",
       "<path fill=\"none\" stroke=\"black\" d=\"M238.24,-83.49C248.61,-81.89 258.49,-80.37 267.27,-79.01\"/>\n",
       "<polygon fill=\"black\" stroke=\"black\" points=\"268.03,-82.44 277.38,-77.45 266.97,-75.52 268.03,-82.44\"/>\n",
       "</g>\n",
       "<!-- 140407050379664 -->\n",
       "<g id=\"node6\" class=\"node\">\n",
       "<title>140407050379664</title>\n",
       "<polygon fill=\"none\" stroke=\"black\" points=\"368.5,-55.5 368.5,-91.5 608.5,-91.5 608.5,-55.5 368.5,-55.5\"/>\n",
       "<text text-anchor=\"middle\" x=\"381\" y=\"-69.8\" font-family=\"Times,serif\" font-size=\"14.00\">e</text>\n",
       "<polyline fill=\"none\" stroke=\"black\" points=\"393.5,-55.5 393.5,-91.5 \"/>\n",
       "<text text-anchor=\"middle\" x=\"447\" y=\"-69.8\" font-family=\"Times,serif\" font-size=\"14.00\">data &#45;6.0000</text>\n",
       "<polyline fill=\"none\" stroke=\"black\" points=\"500.5,-55.5 500.5,-91.5 \"/>\n",
       "<text text-anchor=\"middle\" x=\"554.5\" y=\"-69.8\" font-family=\"Times,serif\" font-size=\"14.00\">grad &#45;2.0000</text>\n",
       "</g>\n",
       "<!-- 140407050379664&#45;&gt;140407050379792+ -->\n",
       "<g id=\"edge8\" class=\"edge\">\n",
       "<title>140407050379664&#45;&gt;140407050379792+</title>\n",
       "<path fill=\"none\" stroke=\"black\" d=\"M606.89,-55.49C617.53,-53.86 627.65,-52.3 636.61,-50.93\"/>\n",
       "<polygon fill=\"black\" stroke=\"black\" points=\"637.2,-54.38 646.55,-49.4 636.14,-47.46 637.2,-54.38\"/>\n",
       "</g>\n",
       "<!-- 140407050379664*&#45;&gt;140407050379664 -->\n",
       "<g id=\"edge3\" class=\"edge\">\n",
       "<title>140407050379664*&#45;&gt;140407050379664</title>\n",
       "<path fill=\"none\" stroke=\"black\" d=\"M331.15,-73.5C338.98,-73.5 348.16,-73.5 358.06,-73.5\"/>\n",
       "<polygon fill=\"black\" stroke=\"black\" points=\"358.19,-77 368.19,-73.5 358.19,-70 358.19,-77\"/>\n",
       "</g>\n",
       "<!-- 140407050380176 -->\n",
       "<g id=\"node8\" class=\"node\">\n",
       "<title>140407050380176</title>\n",
       "<polygon fill=\"none\" stroke=\"black\" points=\"367,-0.5 367,-36.5 610,-36.5 610,-0.5 367,-0.5\"/>\n",
       "<text text-anchor=\"middle\" x=\"379\" y=\"-14.8\" font-family=\"Times,serif\" font-size=\"14.00\">c</text>\n",
       "<polyline fill=\"none\" stroke=\"black\" points=\"391,-0.5 391,-36.5 \"/>\n",
       "<text text-anchor=\"middle\" x=\"446.5\" y=\"-14.8\" font-family=\"Times,serif\" font-size=\"14.00\">data 10.0000</text>\n",
       "<polyline fill=\"none\" stroke=\"black\" points=\"502,-0.5 502,-36.5 \"/>\n",
       "<text text-anchor=\"middle\" x=\"556\" y=\"-14.8\" font-family=\"Times,serif\" font-size=\"14.00\">grad &#45;2.0000</text>\n",
       "</g>\n",
       "<!-- 140407050380176&#45;&gt;140407050379792+ -->\n",
       "<g id=\"edge9\" class=\"edge\">\n",
       "<title>140407050380176&#45;&gt;140407050379792+</title>\n",
       "<path fill=\"none\" stroke=\"black\" d=\"M610.21,-36.36C619.62,-37.75 628.55,-39.07 636.56,-40.26\"/>\n",
       "<polygon fill=\"black\" stroke=\"black\" points=\"636.1,-43.73 646.5,-41.73 637.12,-36.8 636.1,-43.73\"/>\n",
       "</g>\n",
       "<!-- 140407050378448 -->\n",
       "<g id=\"node9\" class=\"node\">\n",
       "<title>140407050378448</title>\n",
       "<polygon fill=\"none\" stroke=\"black\" points=\"737.5,-82.5 737.5,-118.5 970.5,-118.5 970.5,-82.5 737.5,-82.5\"/>\n",
       "<text text-anchor=\"middle\" x=\"748.5\" y=\"-96.8\" font-family=\"Times,serif\" font-size=\"14.00\">f</text>\n",
       "<polyline fill=\"none\" stroke=\"black\" points=\"759.5,-82.5 759.5,-118.5 \"/>\n",
       "<text text-anchor=\"middle\" x=\"813\" y=\"-96.8\" font-family=\"Times,serif\" font-size=\"14.00\">data &#45;2.0000</text>\n",
       "<polyline fill=\"none\" stroke=\"black\" points=\"866.5,-82.5 866.5,-118.5 \"/>\n",
       "<text text-anchor=\"middle\" x=\"918.5\" y=\"-96.8\" font-family=\"Times,serif\" font-size=\"14.00\">grad 4.0000</text>\n",
       "</g>\n",
       "<!-- 140407050378448&#45;&gt;140407050379920* -->\n",
       "<g id=\"edge4\" class=\"edge\">\n",
       "<title>140407050378448&#45;&gt;140407050379920*</title>\n",
       "<path fill=\"none\" stroke=\"black\" d=\"M970.13,-82.49C980.27,-80.91 989.92,-79.4 998.51,-78.05\"/>\n",
       "<polygon fill=\"black\" stroke=\"black\" points=\"999.09,-81.5 1008.43,-76.5 998.01,-74.59 999.09,-81.5\"/>\n",
       "</g>\n",
       "<!-- 140407048756624 -->\n",
       "<g id=\"node10\" class=\"node\">\n",
       "<title>140407048756624</title>\n",
       "<polygon fill=\"none\" stroke=\"black\" points=\"5,-28.5 5,-64.5 236,-64.5 236,-28.5 5,-28.5\"/>\n",
       "<text text-anchor=\"middle\" x=\"17.5\" y=\"-42.8\" font-family=\"Times,serif\" font-size=\"14.00\">a</text>\n",
       "<polyline fill=\"none\" stroke=\"black\" points=\"30,-28.5 30,-64.5 \"/>\n",
       "<text text-anchor=\"middle\" x=\"81\" y=\"-42.8\" font-family=\"Times,serif\" font-size=\"14.00\">data 2.0000</text>\n",
       "<polyline fill=\"none\" stroke=\"black\" points=\"132,-28.5 132,-64.5 \"/>\n",
       "<text text-anchor=\"middle\" x=\"184\" y=\"-42.8\" font-family=\"Times,serif\" font-size=\"14.00\">grad 6.0000</text>\n",
       "</g>\n",
       "<!-- 140407048756624&#45;&gt;140407050379664* -->\n",
       "<g id=\"edge6\" class=\"edge\">\n",
       "<title>140407048756624&#45;&gt;140407050379664*</title>\n",
       "<path fill=\"none\" stroke=\"black\" d=\"M236.19,-63.56C247.37,-65.22 258.02,-66.81 267.41,-68.21\"/>\n",
       "<polygon fill=\"black\" stroke=\"black\" points=\"267.02,-71.69 277.43,-69.7 268.05,-64.76 267.02,-71.69\"/>\n",
       "</g>\n",
       "</g>\n",
       "</svg>\n"
      ],
      "text/plain": [
       "<graphviz.graphs.Digraph at 0x7fb310ab9fd0>"
      ]
     },
     "execution_count": 47,
     "metadata": {},
     "output_type": "execute_result"
    }
   ],
   "source": [
    "draw_dot(L)"
   ]
  },
  {
   "cell_type": "code",
   "execution_count": 44,
   "id": "0bab903e-03dd-43da-9310-ee4a9a4b3078",
   "metadata": {
    "tags": []
   },
   "outputs": [],
   "source": [
    "# manual backpropagation\n",
    "f.grad = 4.0\n",
    "d.grad = -2.0\n",
    "c.grad = -2.0\n",
    "e.grad = -2.0"
   ]
  },
  {
   "cell_type": "code",
   "execution_count": 46,
   "id": "6db1ba76-29b0-43b6-a715-1ff5846a978a",
   "metadata": {
    "tags": []
   },
   "outputs": [],
   "source": [
    "# at this point, added grad to the Value class to track & viz backpropagation\n",
    "\n",
    "L.grad = 1.0 \n",
    "\n",
    "a.grad  = -2.0 * -3.0\n",
    "b.grad = -2.0 * 2.0\n"
   ]
  },
  {
   "cell_type": "code",
   "execution_count": 49,
   "id": "61b13870-023b-4e74-8f3d-3ac81f140c73",
   "metadata": {
    "tags": []
   },
   "outputs": [
    {
     "name": "stdout",
     "output_type": "stream",
     "text": [
      "-6.586368000000001\n"
     ]
    }
   ],
   "source": [
    "# manual nudge toward gradient to improve L\n",
    "a.data += 0.01 * a.grad\n",
    "b.data += 0.01 * b.grad\n",
    "c.data += 0.01 * c.grad\n",
    "f.data += 0.01 * f.grad\n",
    "\n",
    "e = a * b\n",
    "d = e + c\n",
    "L = d * f\n",
    "\n",
    "print(L.data)"
   ]
  },
  {
   "cell_type": "code",
   "execution_count": 42,
   "id": "7a4a4a52-bb6a-4694-a1f7-a513a2fc60c3",
   "metadata": {
    "tags": []
   },
   "outputs": [
    {
     "name": "stdout",
     "output_type": "stream",
     "text": [
      "-1.9999999999953388\n"
     ]
    }
   ],
   "source": [
    "# create gating function (so as to not pollute global scope)\n",
    "def lol():\n",
    "    h = 0.0001\n",
    "    \n",
    "    a = Value(2.0, label = 'a')\n",
    "    b = Value(-3.0, label = 'b')\n",
    "    c = Value(10.0, label = 'c')\n",
    "    e = a*b; e.label = 'e'\n",
    "    d = e + c; d.label = 'd'\n",
    "    f = Value(-2.0, label = 'f')\n",
    "    L = d * f; L.label = 'L'\n",
    "    L1 = L.data\n",
    "    \n",
    "    a = Value(2.0, label = 'a')\n",
    "    b = Value(-3.0, label = 'b')\n",
    "    c = Value(10.0, label = 'c')\n",
    "    e = a*b; e.label = 'e'\n",
    "    d = e + c; d.label = 'd'\n",
    "    d.data += h\n",
    "    f = Value(-2.0, label = 'f')\n",
    "    L = d * f; L.label = 'L'\n",
    "    L2 = L.data\n",
    "    \n",
    "    # printing slope\n",
    "    print((L2 - L1)/h)\n",
    "    \n",
    "lol()"
   ]
  },
  {
   "cell_type": "code",
   "execution_count": 43,
   "id": "e0a33153-a10e-4a13-998b-5581f67ac1b9",
   "metadata": {
    "tags": []
   },
   "outputs": [],
   "source": [
    "# !!! we need to derive dL / dc !!!\n",
    "\n",
    "# dd / dc ? 1.0\n",
    "# d = c + e\n",
    "# ((c+h + e) - (c + e)) / h\n",
    "# (c + h + e - c - e) / h\n",
    "# local derivative of d with respect to c\n",
    "\n",
    "# dz / dx = (dz / dy) * (dy / dx)\n",
    "# ^^^ this is the chain rule\n",
    "\n",
    "# to find the effect of dL / dc, we repeatedly multiply the local gradient per operation as we trace the graph"
   ]
  },
  {
   "cell_type": "code",
   "execution_count": 54,
   "id": "37dd8813-c2ed-4767-824c-cb72c2fe5a07",
   "metadata": {
    "tags": []
   },
   "outputs": [],
   "source": [
    "######### backpropagating a neuron by hand #########"
   ]
  },
  {
   "cell_type": "code",
   "execution_count": 52,
   "id": "2b6ea9c6-d5a9-4fa7-a1d9-df8d664b1a8c",
   "metadata": {
    "tags": []
   },
   "outputs": [
    {
     "data": {
      "image/png": "[encoded data removed]",
      "text/plain": [
       "<Figure size 640x480 with 1 Axes>"
      ]
     },
     "metadata": {},
     "output_type": "display_data"
    }
   ],
   "source": [
    "plt.plot(np.arange(-5, 5, 0.2), np.tanh(np.arange(-5, 5, 0.2))); plt.grid();"
   ]
  },
  {
   "cell_type": "code",
   "execution_count": 53,
   "id": "f3d015be-c0cf-439f-bc89-205d3e22e9c6",
   "metadata": {
    "tags": []
   },
   "outputs": [],
   "source": [
    "# tanh squashes the inputs to fit approach 1 and -1 but scale properly in between"
   ]
  },
  {
   "cell_type": "code",
   "execution_count": 156,
   "id": "de1cf824-8bbc-453c-ace7-b8ffe1dea34b",
   "metadata": {
    "tags": []
   },
   "outputs": [],
   "source": [
    "# inputs x1, x2\n",
    "x1 = Value(2.0, label='x1')\n",
    "x2 = Value(0.0, label='x2')\n",
    "# weights w1, w2\n",
    "w1 = Value(-3.0, label='w1')\n",
    "w2 = Value(1.0, label='w2')\n",
    "# inherent bias of neuron\n",
    "b = Value(6.8813735870195432, label='b')\n",
    "\n",
    "# x1w1 + x2w2 + b\n",
    "x1w1 = x1*w1; x1w1.label = 'x1*w1'\n",
    "x2w2 = x2*w2; x2w2.label = 'x2*w2'\n",
    "x1w1x2w2 = x1w1 + x2w2; x1w1x2w2.label = 'x1w1 + x2w2'\n",
    "n = x1w1x2w2 + b; n.label = 'n'\n",
    "\n",
    "#at this point, implement tanh() in Value class\n",
    "\n",
    "o = n.tanh(); o.label = 'o'"
   ]
  },
  {
   "cell_type": "code",
   "execution_count": 106,
   "id": "39132429-58cb-4d40-8d2e-9a1b58d80718",
   "metadata": {
    "tags": []
   },
   "outputs": [],
   "source": [
    "# n.grad = 0.5"
   ]
  },
  {
   "cell_type": "code",
   "execution_count": 157,
   "id": "3f57b1e6-35e0-4f38-95c8-315ca0498334",
   "metadata": {
    "tags": []
   },
   "outputs": [
    {
     "data": {
      "image/svg+xml": [
       "<?xml version=\"1.0\" encoding=\"UTF-8\" standalone=\"no\"?>\n",
       "<!DOCTYPE svg PUBLIC \"-//W3C//DTD SVG 1.1//EN\"\n",
       " \"http://www.w3.org/Graphics/SVG/1.1/DTD/svg11.dtd\">\n",
       "<!-- Generated by graphviz version 5.0.0 (0)\n",
       " -->\n",
       "<!-- Pages: 1 -->\n",
       "<svg width=\"1832pt\" height=\"210pt\"\n",
       " viewBox=\"0.00 0.00 1831.69 210.00\" xmlns=\"http://www.w3.org/2000/svg\" xmlns:xlink=\"http://www.w3.org/1999/xlink\">\n",
       "<g id=\"graph0\" class=\"graph\" transform=\"scale(1 1) rotate(0) translate(4 206)\">\n",
       "<polygon fill=\"white\" stroke=\"transparent\" points=\"-4,4 -4,-206 1827.69,-206 1827.69,4 -4,4\"/>\n",
       "<!-- 140407049086480 -->\n",
       "<g id=\"node1\" class=\"node\">\n",
       "<title>140407049086480</title>\n",
       "<polygon fill=\"none\" stroke=\"black\" points=\"377.5,-55.5 377.5,-91.5 645.5,-91.5 645.5,-55.5 377.5,-55.5\"/>\n",
       "<text text-anchor=\"middle\" x=\"408.5\" y=\"-69.8\" font-family=\"Times,serif\" font-size=\"14.00\">x2*w2</text>\n",
       "<polyline fill=\"none\" stroke=\"black\" points=\"439.5,-55.5 439.5,-91.5 \"/>\n",
       "<text text-anchor=\"middle\" x=\"490.5\" y=\"-69.8\" font-family=\"Times,serif\" font-size=\"14.00\">data 0.0000</text>\n",
       "<polyline fill=\"none\" stroke=\"black\" points=\"541.5,-55.5 541.5,-91.5 \"/>\n",
       "<text text-anchor=\"middle\" x=\"593.5\" y=\"-69.8\" font-family=\"Times,serif\" font-size=\"14.00\">grad 0.0000</text>\n",
       "</g>\n",
       "<!-- 140407048364560+ -->\n",
       "<g id=\"node4\" class=\"node\">\n",
       "<title>140407048364560+</title>\n",
       "<ellipse fill=\"none\" stroke=\"black\" cx=\"711\" cy=\"-100.5\" rx=\"27\" ry=\"18\"/>\n",
       "<text text-anchor=\"middle\" x=\"711\" y=\"-96.8\" font-family=\"Times,serif\" font-size=\"14.00\">+</text>\n",
       "</g>\n",
       "<!-- 140407049086480&#45;&gt;140407048364560+ -->\n",
       "<g id=\"edge10\" class=\"edge\">\n",
       "<title>140407049086480&#45;&gt;140407048364560+</title>\n",
       "<path fill=\"none\" stroke=\"black\" d=\"M644.24,-91.51C655.12,-93 665.4,-94.4 674.45,-95.64\"/>\n",
       "<polygon fill=\"black\" stroke=\"black\" points=\"674.11,-99.13 684.49,-97.01 675.05,-92.19 674.11,-99.13\"/>\n",
       "</g>\n",
       "<!-- 140407049086480* -->\n",
       "<g id=\"node2\" class=\"node\">\n",
       "<title>140407049086480*</title>\n",
       "<ellipse fill=\"none\" stroke=\"black\" cx=\"312\" cy=\"-73.5\" rx=\"27\" ry=\"18\"/>\n",
       "<text text-anchor=\"middle\" x=\"312\" y=\"-69.8\" font-family=\"Times,serif\" font-size=\"14.00\">*</text>\n",
       "</g>\n",
       "<!-- 140407049086480*&#45;&gt;140407049086480 -->\n",
       "<g id=\"edge1\" class=\"edge\">\n",
       "<title>140407049086480*&#45;&gt;140407049086480</title>\n",
       "<path fill=\"none\" stroke=\"black\" d=\"M339.23,-73.5C347.26,-73.5 356.72,-73.5 366.99,-73.5\"/>\n",
       "<polygon fill=\"black\" stroke=\"black\" points=\"367.08,-77 377.08,-73.5 367.08,-70 367.08,-77\"/>\n",
       "</g>\n",
       "<!-- 140407048364560 -->\n",
       "<g id=\"node3\" class=\"node\">\n",
       "<title>140407048364560</title>\n",
       "<polygon fill=\"none\" stroke=\"black\" points=\"774,-82.5 774,-118.5 1099,-118.5 1099,-82.5 774,-82.5\"/>\n",
       "<text text-anchor=\"middle\" x=\"831\" y=\"-96.8\" font-family=\"Times,serif\" font-size=\"14.00\">x1w1 + x2w2</text>\n",
       "<polyline fill=\"none\" stroke=\"black\" points=\"888,-82.5 888,-118.5 \"/>\n",
       "<text text-anchor=\"middle\" x=\"941.5\" y=\"-96.8\" font-family=\"Times,serif\" font-size=\"14.00\">data &#45;6.0000</text>\n",
       "<polyline fill=\"none\" stroke=\"black\" points=\"995,-82.5 995,-118.5 \"/>\n",
       "<text text-anchor=\"middle\" x=\"1047\" y=\"-96.8\" font-family=\"Times,serif\" font-size=\"14.00\">grad 0.0000</text>\n",
       "</g>\n",
       "<!-- 140407048365328+ -->\n",
       "<g id=\"node9\" class=\"node\">\n",
       "<title>140407048365328+</title>\n",
       "<ellipse fill=\"none\" stroke=\"black\" cx=\"1162\" cy=\"-127.5\" rx=\"27\" ry=\"18\"/>\n",
       "<text text-anchor=\"middle\" x=\"1162\" y=\"-123.8\" font-family=\"Times,serif\" font-size=\"14.00\">+</text>\n",
       "</g>\n",
       "<!-- 140407048364560&#45;&gt;140407048365328+ -->\n",
       "<g id=\"edge12\" class=\"edge\">\n",
       "<title>140407048364560&#45;&gt;140407048365328+</title>\n",
       "<path fill=\"none\" stroke=\"black\" d=\"M1086.58,-118.51C1100.66,-120.21 1113.84,-121.8 1125.09,-123.16\"/>\n",
       "<polygon fill=\"black\" stroke=\"black\" points=\"1124.89,-126.66 1135.24,-124.39 1125.73,-119.71 1124.89,-126.66\"/>\n",
       "</g>\n",
       "<!-- 140407048364560+&#45;&gt;140407048364560 -->\n",
       "<g id=\"edge2\" class=\"edge\">\n",
       "<title>140407048364560+&#45;&gt;140407048364560</title>\n",
       "<path fill=\"none\" stroke=\"black\" d=\"M738.08,-100.5C745.51,-100.5 754.21,-100.5 763.74,-100.5\"/>\n",
       "<polygon fill=\"black\" stroke=\"black\" points=\"763.95,-104 773.95,-100.5 763.95,-97 763.95,-104\"/>\n",
       "</g>\n",
       "<!-- 140407049082768 -->\n",
       "<g id=\"node5\" class=\"node\">\n",
       "<title>140407049082768</title>\n",
       "<polygon fill=\"none\" stroke=\"black\" points=\"4.5,-55.5 4.5,-91.5 244.5,-91.5 244.5,-55.5 4.5,-55.5\"/>\n",
       "<text text-anchor=\"middle\" x=\"21.5\" y=\"-69.8\" font-family=\"Times,serif\" font-size=\"14.00\">x2</text>\n",
       "<polyline fill=\"none\" stroke=\"black\" points=\"38.5,-55.5 38.5,-91.5 \"/>\n",
       "<text text-anchor=\"middle\" x=\"89.5\" y=\"-69.8\" font-family=\"Times,serif\" font-size=\"14.00\">data 0.0000</text>\n",
       "<polyline fill=\"none\" stroke=\"black\" points=\"140.5,-55.5 140.5,-91.5 \"/>\n",
       "<text text-anchor=\"middle\" x=\"192.5\" y=\"-69.8\" font-family=\"Times,serif\" font-size=\"14.00\">grad 0.0000</text>\n",
       "</g>\n",
       "<!-- 140407049082768&#45;&gt;140407049086480* -->\n",
       "<g id=\"edge6\" class=\"edge\">\n",
       "<title>140407049082768&#45;&gt;140407049086480*</title>\n",
       "<path fill=\"none\" stroke=\"black\" d=\"M244.55,-73.5C255.31,-73.5 265.54,-73.5 274.62,-73.5\"/>\n",
       "<polygon fill=\"black\" stroke=\"black\" points=\"274.7,-77 284.7,-73.5 274.7,-70 274.7,-77\"/>\n",
       "</g>\n",
       "<!-- 140407049566928 -->\n",
       "<g id=\"node6\" class=\"node\">\n",
       "<title>140407049566928</title>\n",
       "<polygon fill=\"none\" stroke=\"black\" points=\"375,-110.5 375,-146.5 648,-146.5 648,-110.5 375,-110.5\"/>\n",
       "<text text-anchor=\"middle\" x=\"406\" y=\"-124.8\" font-family=\"Times,serif\" font-size=\"14.00\">x1*w1</text>\n",
       "<polyline fill=\"none\" stroke=\"black\" points=\"437,-110.5 437,-146.5 \"/>\n",
       "<text text-anchor=\"middle\" x=\"490.5\" y=\"-124.8\" font-family=\"Times,serif\" font-size=\"14.00\">data &#45;6.0000</text>\n",
       "<polyline fill=\"none\" stroke=\"black\" points=\"544,-110.5 544,-146.5 \"/>\n",
       "<text text-anchor=\"middle\" x=\"596\" y=\"-124.8\" font-family=\"Times,serif\" font-size=\"14.00\">grad 0.0000</text>\n",
       "</g>\n",
       "<!-- 140407049566928&#45;&gt;140407048364560+ -->\n",
       "<g id=\"edge14\" class=\"edge\">\n",
       "<title>140407049566928&#45;&gt;140407048364560+</title>\n",
       "<path fill=\"none\" stroke=\"black\" d=\"M639.53,-110.49C652.09,-108.71 663.99,-107.02 674.3,-105.56\"/>\n",
       "<polygon fill=\"black\" stroke=\"black\" points=\"675.03,-108.99 684.44,-104.12 674.05,-102.06 675.03,-108.99\"/>\n",
       "</g>\n",
       "<!-- 140407049566928* -->\n",
       "<g id=\"node7\" class=\"node\">\n",
       "<title>140407049566928*</title>\n",
       "<ellipse fill=\"none\" stroke=\"black\" cx=\"312\" cy=\"-128.5\" rx=\"27\" ry=\"18\"/>\n",
       "<text text-anchor=\"middle\" x=\"312\" y=\"-124.8\" font-family=\"Times,serif\" font-size=\"14.00\">*</text>\n",
       "</g>\n",
       "<!-- 140407049566928*&#45;&gt;140407049566928 -->\n",
       "<g id=\"edge3\" class=\"edge\">\n",
       "<title>140407049566928*&#45;&gt;140407049566928</title>\n",
       "<path fill=\"none\" stroke=\"black\" d=\"M339.23,-128.5C346.7,-128.5 355.41,-128.5 364.87,-128.5\"/>\n",
       "<polygon fill=\"black\" stroke=\"black\" points=\"364.98,-132 374.98,-128.5 364.98,-125 364.98,-132\"/>\n",
       "</g>\n",
       "<!-- 140407048365328 -->\n",
       "<g id=\"node8\" class=\"node\">\n",
       "<title>140407048365328</title>\n",
       "<polygon fill=\"none\" stroke=\"black\" points=\"1225,-109.5 1225,-145.5 1457,-145.5 1457,-109.5 1225,-109.5\"/>\n",
       "<text text-anchor=\"middle\" x=\"1238\" y=\"-123.8\" font-family=\"Times,serif\" font-size=\"14.00\">n</text>\n",
       "<polyline fill=\"none\" stroke=\"black\" points=\"1251,-109.5 1251,-145.5 \"/>\n",
       "<text text-anchor=\"middle\" x=\"1302\" y=\"-123.8\" font-family=\"Times,serif\" font-size=\"14.00\">data 0.8814</text>\n",
       "<polyline fill=\"none\" stroke=\"black\" points=\"1353,-109.5 1353,-145.5 \"/>\n",
       "<text text-anchor=\"middle\" x=\"1405\" y=\"-123.8\" font-family=\"Times,serif\" font-size=\"14.00\">grad 0.0000</text>\n",
       "</g>\n",
       "<!-- 140407048368016tanh -->\n",
       "<g id=\"node14\" class=\"node\">\n",
       "<title>140407048368016tanh</title>\n",
       "<ellipse fill=\"none\" stroke=\"black\" cx=\"1524.85\" cy=\"-127.5\" rx=\"31.7\" ry=\"18\"/>\n",
       "<text text-anchor=\"middle\" x=\"1524.85\" y=\"-123.8\" font-family=\"Times,serif\" font-size=\"14.00\">tanh</text>\n",
       "</g>\n",
       "<!-- 140407048365328&#45;&gt;140407048368016tanh -->\n",
       "<g id=\"edge8\" class=\"edge\">\n",
       "<title>140407048365328&#45;&gt;140407048368016tanh</title>\n",
       "<path fill=\"none\" stroke=\"black\" d=\"M1457.17,-127.5C1466.08,-127.5 1474.66,-127.5 1482.53,-127.5\"/>\n",
       "<polygon fill=\"black\" stroke=\"black\" points=\"1482.78,-131 1492.78,-127.5 1482.78,-124 1482.78,-131\"/>\n",
       "</g>\n",
       "<!-- 140407048365328+&#45;&gt;140407048365328 -->\n",
       "<g id=\"edge4\" class=\"edge\">\n",
       "<title>140407048365328+&#45;&gt;140407048365328</title>\n",
       "<path fill=\"none\" stroke=\"black\" d=\"M1189.12,-127.5C1196.53,-127.5 1205.14,-127.5 1214.4,-127.5\"/>\n",
       "<polygon fill=\"black\" stroke=\"black\" points=\"1214.69,-131 1224.69,-127.5 1214.69,-124 1214.69,-131\"/>\n",
       "</g>\n",
       "<!-- 140407049082640 -->\n",
       "<g id=\"node10\" class=\"node\">\n",
       "<title>140407049082640</title>\n",
       "<polygon fill=\"none\" stroke=\"black\" points=\"820.5,-137.5 820.5,-173.5 1052.5,-173.5 1052.5,-137.5 820.5,-137.5\"/>\n",
       "<text text-anchor=\"middle\" x=\"833.5\" y=\"-151.8\" font-family=\"Times,serif\" font-size=\"14.00\">b</text>\n",
       "<polyline fill=\"none\" stroke=\"black\" points=\"846.5,-137.5 846.5,-173.5 \"/>\n",
       "<text text-anchor=\"middle\" x=\"897.5\" y=\"-151.8\" font-family=\"Times,serif\" font-size=\"14.00\">data 6.8814</text>\n",
       "<polyline fill=\"none\" stroke=\"black\" points=\"948.5,-137.5 948.5,-173.5 \"/>\n",
       "<text text-anchor=\"middle\" x=\"1000.5\" y=\"-151.8\" font-family=\"Times,serif\" font-size=\"14.00\">grad 0.0000</text>\n",
       "</g>\n",
       "<!-- 140407049082640&#45;&gt;140407048365328+ -->\n",
       "<g id=\"edge13\" class=\"edge\">\n",
       "<title>140407049082640&#45;&gt;140407048365328+</title>\n",
       "<path fill=\"none\" stroke=\"black\" d=\"M1052.52,-141.09C1079,-137.77 1105.23,-134.49 1125.26,-131.98\"/>\n",
       "<polygon fill=\"black\" stroke=\"black\" points=\"1125.94,-135.42 1135.43,-130.7 1125.07,-128.47 1125.94,-135.42\"/>\n",
       "</g>\n",
       "<!-- 140407049080656 -->\n",
       "<g id=\"node11\" class=\"node\">\n",
       "<title>140407049080656</title>\n",
       "<polygon fill=\"none\" stroke=\"black\" points=\"2.5,-0.5 2.5,-36.5 246.5,-36.5 246.5,-0.5 2.5,-0.5\"/>\n",
       "<text text-anchor=\"middle\" x=\"21.5\" y=\"-14.8\" font-family=\"Times,serif\" font-size=\"14.00\">w2</text>\n",
       "<polyline fill=\"none\" stroke=\"black\" points=\"40.5,-0.5 40.5,-36.5 \"/>\n",
       "<text text-anchor=\"middle\" x=\"91.5\" y=\"-14.8\" font-family=\"Times,serif\" font-size=\"14.00\">data 1.0000</text>\n",
       "<polyline fill=\"none\" stroke=\"black\" points=\"142.5,-0.5 142.5,-36.5 \"/>\n",
       "<text text-anchor=\"middle\" x=\"194.5\" y=\"-14.8\" font-family=\"Times,serif\" font-size=\"14.00\">grad 0.0000</text>\n",
       "</g>\n",
       "<!-- 140407049080656&#45;&gt;140407049086480* -->\n",
       "<g id=\"edge7\" class=\"edge\">\n",
       "<title>140407049080656&#45;&gt;140407049086480*</title>\n",
       "<path fill=\"none\" stroke=\"black\" d=\"M214.42,-36.55C226.15,-39.54 237.93,-42.87 249,-46.5 259.46,-49.93 270.57,-54.47 280.46,-58.84\"/>\n",
       "<polygon fill=\"black\" stroke=\"black\" points=\"279.31,-62.17 289.87,-63.12 282.21,-55.79 279.31,-62.17\"/>\n",
       "</g>\n",
       "<!-- 140407049089872 -->\n",
       "<g id=\"node12\" class=\"node\">\n",
       "<title>140407049089872</title>\n",
       "<polygon fill=\"none\" stroke=\"black\" points=\"0,-165.5 0,-201.5 249,-201.5 249,-165.5 0,-165.5\"/>\n",
       "<text text-anchor=\"middle\" x=\"19\" y=\"-179.8\" font-family=\"Times,serif\" font-size=\"14.00\">w1</text>\n",
       "<polyline fill=\"none\" stroke=\"black\" points=\"38,-165.5 38,-201.5 \"/>\n",
       "<text text-anchor=\"middle\" x=\"91.5\" y=\"-179.8\" font-family=\"Times,serif\" font-size=\"14.00\">data &#45;3.0000</text>\n",
       "<polyline fill=\"none\" stroke=\"black\" points=\"145,-165.5 145,-201.5 \"/>\n",
       "<text text-anchor=\"middle\" x=\"197\" y=\"-179.8\" font-family=\"Times,serif\" font-size=\"14.00\">grad 0.0000</text>\n",
       "</g>\n",
       "<!-- 140407049089872&#45;&gt;140407049566928* -->\n",
       "<g id=\"edge9\" class=\"edge\">\n",
       "<title>140407049089872&#45;&gt;140407049566928*</title>\n",
       "<path fill=\"none\" stroke=\"black\" d=\"M218.13,-165.46C228.63,-162.77 239.1,-159.78 249,-156.5 259.71,-152.96 271.05,-148.16 281.07,-143.54\"/>\n",
       "<polygon fill=\"black\" stroke=\"black\" points=\"282.67,-146.66 290.2,-139.21 279.67,-140.33 282.67,-146.66\"/>\n",
       "</g>\n",
       "<!-- 140407048368016 -->\n",
       "<g id=\"node13\" class=\"node\">\n",
       "<title>140407048368016</title>\n",
       "<polygon fill=\"none\" stroke=\"black\" points=\"1592.69,-109.5 1592.69,-145.5 1823.69,-145.5 1823.69,-109.5 1592.69,-109.5\"/>\n",
       "<text text-anchor=\"middle\" x=\"1605.19\" y=\"-123.8\" font-family=\"Times,serif\" font-size=\"14.00\">o</text>\n",
       "<polyline fill=\"none\" stroke=\"black\" points=\"1617.69,-109.5 1617.69,-145.5 \"/>\n",
       "<text text-anchor=\"middle\" x=\"1668.69\" y=\"-123.8\" font-family=\"Times,serif\" font-size=\"14.00\">data 0.7071</text>\n",
       "<polyline fill=\"none\" stroke=\"black\" points=\"1719.69,-109.5 1719.69,-145.5 \"/>\n",
       "<text text-anchor=\"middle\" x=\"1771.69\" y=\"-123.8\" font-family=\"Times,serif\" font-size=\"14.00\">grad 0.0000</text>\n",
       "</g>\n",
       "<!-- 140407048368016tanh&#45;&gt;140407048368016 -->\n",
       "<g id=\"edge5\" class=\"edge\">\n",
       "<title>140407048368016tanh&#45;&gt;140407048368016</title>\n",
       "<path fill=\"none\" stroke=\"black\" d=\"M1557.02,-127.5C1564.61,-127.5 1573.19,-127.5 1582.31,-127.5\"/>\n",
       "<polygon fill=\"black\" stroke=\"black\" points=\"1582.4,-131 1592.4,-127.5 1582.4,-124 1582.4,-131\"/>\n",
       "</g>\n",
       "<!-- 140407049090000 -->\n",
       "<g id=\"node15\" class=\"node\">\n",
       "<title>140407049090000</title>\n",
       "<polygon fill=\"none\" stroke=\"black\" points=\"4.5,-110.5 4.5,-146.5 244.5,-146.5 244.5,-110.5 4.5,-110.5\"/>\n",
       "<text text-anchor=\"middle\" x=\"21.5\" y=\"-124.8\" font-family=\"Times,serif\" font-size=\"14.00\">x1</text>\n",
       "<polyline fill=\"none\" stroke=\"black\" points=\"38.5,-110.5 38.5,-146.5 \"/>\n",
       "<text text-anchor=\"middle\" x=\"89.5\" y=\"-124.8\" font-family=\"Times,serif\" font-size=\"14.00\">data 2.0000</text>\n",
       "<polyline fill=\"none\" stroke=\"black\" points=\"140.5,-110.5 140.5,-146.5 \"/>\n",
       "<text text-anchor=\"middle\" x=\"192.5\" y=\"-124.8\" font-family=\"Times,serif\" font-size=\"14.00\">grad 0.0000</text>\n",
       "</g>\n",
       "<!-- 140407049090000&#45;&gt;140407049566928* -->\n",
       "<g id=\"edge11\" class=\"edge\">\n",
       "<title>140407049090000&#45;&gt;140407049566928*</title>\n",
       "<path fill=\"none\" stroke=\"black\" d=\"M244.55,-128.5C255.31,-128.5 265.54,-128.5 274.62,-128.5\"/>\n",
       "<polygon fill=\"black\" stroke=\"black\" points=\"274.7,-132 284.7,-128.5 274.7,-125 274.7,-132\"/>\n",
       "</g>\n",
       "</g>\n",
       "</svg>\n"
      ],
      "text/plain": [
       "<graphviz.graphs.Digraph at 0x7fb3105a6490>"
      ]
     },
     "execution_count": 157,
     "metadata": {},
     "output_type": "execute_result"
    }
   ],
   "source": [
    "draw_dot(o)"
   ]
  },
  {
   "cell_type": "code",
   "execution_count": 82,
   "id": "ca76e6d1-7b1c-4d59-80bf-9ea2291d9f80",
   "metadata": {
    "tags": []
   },
   "outputs": [],
   "source": [
    "x1.grad = w1.data * x1w1.grad\n",
    "w2.grad = x1.data * x1w1.grad"
   ]
  },
  {
   "cell_type": "code",
   "execution_count": 79,
   "id": "f889b171-5bf1-4102-8b97-a470028a7d0d",
   "metadata": {
    "tags": []
   },
   "outputs": [],
   "source": [
    "x2.grad = w2.data * x2w2.grad\n",
    "w2.grad = x2.data * x2w2.grad"
   ]
  },
  {
   "cell_type": "code",
   "execution_count": 76,
   "id": "7b03efeb-fbff-4a6b-a887-74c65bb49dba",
   "metadata": {
    "tags": []
   },
   "outputs": [],
   "source": [
    "x1w1.grad = 0.5\n",
    "x2w2.grad = 0.5"
   ]
  },
  {
   "cell_type": "code",
   "execution_count": 74,
   "id": "aace92a7-0704-459d-8f87-ac39cf42fb9b",
   "metadata": {
    "tags": []
   },
   "outputs": [],
   "source": [
    "x1w1x2w2.grad = 0.5\n",
    "b.grad = 0.5"
   ]
  },
  {
   "cell_type": "code",
   "execution_count": 69,
   "id": "ad005ee5-d651-4e4c-9abc-5a504626aa37",
   "metadata": {
    "tags": []
   },
   "outputs": [],
   "source": [
    "o.grad = 1.0"
   ]
  },
  {
   "cell_type": "code",
   "execution_count": 71,
   "id": "58ad3f0c-ccf3-479c-a56e-a5478ff917de",
   "metadata": {
    "tags": []
   },
   "outputs": [
    {
     "data": {
      "text/plain": [
       "0.4999999999999999"
      ]
     },
     "execution_count": 71,
     "metadata": {},
     "output_type": "execute_result"
    }
   ],
   "source": [
    "1 - o.data**2"
   ]
  },
  {
   "cell_type": "code",
   "execution_count": 84,
   "id": "29ee2acd-d2b6-47e7-8259-0b7ec131a6ec",
   "metadata": {
    "tags": []
   },
   "outputs": [],
   "source": [
    "# o = tanh(n)\n",
    "# do/dn = 1 - o**2"
   ]
  },
  {
   "cell_type": "code",
   "execution_count": 85,
   "id": "a55fc3d1-8231-4be2-833c-8dffea4641f5",
   "metadata": {
    "tags": []
   },
   "outputs": [],
   "source": [
    "# implementing backpropagation programatically"
   ]
  },
  {
   "cell_type": "code",
   "execution_count": 158,
   "id": "4d25c612-79bf-4731-aa0e-351ed3d56fd4",
   "metadata": {
    "tags": []
   },
   "outputs": [],
   "source": [
    "# added self._backward to Value class\n",
    "o.grad = 1.0"
   ]
  },
  {
   "cell_type": "code",
   "execution_count": 159,
   "id": "09e93280-7e34-4360-be8a-540fae4ca2b0",
   "metadata": {
    "tags": []
   },
   "outputs": [],
   "source": [
    "o._backward()"
   ]
  },
  {
   "cell_type": "code",
   "execution_count": 160,
   "id": "eeaff60e-9568-44d4-bb4e-336c980dce5b",
   "metadata": {
    "tags": []
   },
   "outputs": [],
   "source": [
    "n._backward()"
   ]
  },
  {
   "cell_type": "code",
   "execution_count": 161,
   "id": "8b6803a8-da5f-41fa-b01f-d6681869c6a9",
   "metadata": {
    "tags": []
   },
   "outputs": [],
   "source": [
    "b._backward()"
   ]
  },
  {
   "cell_type": "code",
   "execution_count": 162,
   "id": "96f23012-21a3-42eb-b82d-203ab4067362",
   "metadata": {
    "tags": []
   },
   "outputs": [],
   "source": [
    "x1w1x2w2._backward()\n"
   ]
  },
  {
   "cell_type": "code",
   "execution_count": 163,
   "id": "0321d3b3-b7ab-454d-94d3-5b0b1107c78e",
   "metadata": {
    "tags": []
   },
   "outputs": [],
   "source": [
    "x2w2._backward()\n",
    "x1w1._backward()"
   ]
  },
  {
   "cell_type": "code",
   "execution_count": 164,
   "id": "082ca3c7-4598-4e56-ba26-1414fdf50190",
   "metadata": {
    "tags": []
   },
   "outputs": [
    {
     "data": {
      "image/svg+xml": [
       "<?xml version=\"1.0\" encoding=\"UTF-8\" standalone=\"no\"?>\n",
       "<!DOCTYPE svg PUBLIC \"-//W3C//DTD SVG 1.1//EN\"\n",
       " \"http://www.w3.org/Graphics/SVG/1.1/DTD/svg11.dtd\">\n",
       "<!-- Generated by graphviz version 5.0.0 (0)\n",
       " -->\n",
       "<!-- Pages: 1 -->\n",
       "<svg width=\"1832pt\" height=\"210pt\"\n",
       " viewBox=\"0.00 0.00 1831.69 210.00\" xmlns=\"http://www.w3.org/2000/svg\" xmlns:xlink=\"http://www.w3.org/1999/xlink\">\n",
       "<g id=\"graph0\" class=\"graph\" transform=\"scale(1 1) rotate(0) translate(4 206)\">\n",
       "<polygon fill=\"white\" stroke=\"transparent\" points=\"-4,4 -4,-206 1827.69,-206 1827.69,4 -4,4\"/>\n",
       "<!-- 140407049086480 -->\n",
       "<g id=\"node1\" class=\"node\">\n",
       "<title>140407049086480</title>\n",
       "<polygon fill=\"none\" stroke=\"black\" points=\"377.5,-55.5 377.5,-91.5 645.5,-91.5 645.5,-55.5 377.5,-55.5\"/>\n",
       "<text text-anchor=\"middle\" x=\"408.5\" y=\"-69.8\" font-family=\"Times,serif\" font-size=\"14.00\">x2*w2</text>\n",
       "<polyline fill=\"none\" stroke=\"black\" points=\"439.5,-55.5 439.5,-91.5 \"/>\n",
       "<text text-anchor=\"middle\" x=\"490.5\" y=\"-69.8\" font-family=\"Times,serif\" font-size=\"14.00\">data 0.0000</text>\n",
       "<polyline fill=\"none\" stroke=\"black\" points=\"541.5,-55.5 541.5,-91.5 \"/>\n",
       "<text text-anchor=\"middle\" x=\"593.5\" y=\"-69.8\" font-family=\"Times,serif\" font-size=\"14.00\">grad 0.5000</text>\n",
       "</g>\n",
       "<!-- 140407048364560+ -->\n",
       "<g id=\"node4\" class=\"node\">\n",
       "<title>140407048364560+</title>\n",
       "<ellipse fill=\"none\" stroke=\"black\" cx=\"711\" cy=\"-100.5\" rx=\"27\" ry=\"18\"/>\n",
       "<text text-anchor=\"middle\" x=\"711\" y=\"-96.8\" font-family=\"Times,serif\" font-size=\"14.00\">+</text>\n",
       "</g>\n",
       "<!-- 140407049086480&#45;&gt;140407048364560+ -->\n",
       "<g id=\"edge10\" class=\"edge\">\n",
       "<title>140407049086480&#45;&gt;140407048364560+</title>\n",
       "<path fill=\"none\" stroke=\"black\" d=\"M644.24,-91.51C655.12,-93 665.4,-94.4 674.45,-95.64\"/>\n",
       "<polygon fill=\"black\" stroke=\"black\" points=\"674.11,-99.13 684.49,-97.01 675.05,-92.19 674.11,-99.13\"/>\n",
       "</g>\n",
       "<!-- 140407049086480* -->\n",
       "<g id=\"node2\" class=\"node\">\n",
       "<title>140407049086480*</title>\n",
       "<ellipse fill=\"none\" stroke=\"black\" cx=\"312\" cy=\"-73.5\" rx=\"27\" ry=\"18\"/>\n",
       "<text text-anchor=\"middle\" x=\"312\" y=\"-69.8\" font-family=\"Times,serif\" font-size=\"14.00\">*</text>\n",
       "</g>\n",
       "<!-- 140407049086480*&#45;&gt;140407049086480 -->\n",
       "<g id=\"edge1\" class=\"edge\">\n",
       "<title>140407049086480*&#45;&gt;140407049086480</title>\n",
       "<path fill=\"none\" stroke=\"black\" d=\"M339.23,-73.5C347.26,-73.5 356.72,-73.5 366.99,-73.5\"/>\n",
       "<polygon fill=\"black\" stroke=\"black\" points=\"367.08,-77 377.08,-73.5 367.08,-70 367.08,-77\"/>\n",
       "</g>\n",
       "<!-- 140407048364560 -->\n",
       "<g id=\"node3\" class=\"node\">\n",
       "<title>140407048364560</title>\n",
       "<polygon fill=\"none\" stroke=\"black\" points=\"774,-82.5 774,-118.5 1099,-118.5 1099,-82.5 774,-82.5\"/>\n",
       "<text text-anchor=\"middle\" x=\"831\" y=\"-96.8\" font-family=\"Times,serif\" font-size=\"14.00\">x1w1 + x2w2</text>\n",
       "<polyline fill=\"none\" stroke=\"black\" points=\"888,-82.5 888,-118.5 \"/>\n",
       "<text text-anchor=\"middle\" x=\"941.5\" y=\"-96.8\" font-family=\"Times,serif\" font-size=\"14.00\">data &#45;6.0000</text>\n",
       "<polyline fill=\"none\" stroke=\"black\" points=\"995,-82.5 995,-118.5 \"/>\n",
       "<text text-anchor=\"middle\" x=\"1047\" y=\"-96.8\" font-family=\"Times,serif\" font-size=\"14.00\">grad 0.5000</text>\n",
       "</g>\n",
       "<!-- 140407048365328+ -->\n",
       "<g id=\"node9\" class=\"node\">\n",
       "<title>140407048365328+</title>\n",
       "<ellipse fill=\"none\" stroke=\"black\" cx=\"1162\" cy=\"-127.5\" rx=\"27\" ry=\"18\"/>\n",
       "<text text-anchor=\"middle\" x=\"1162\" y=\"-123.8\" font-family=\"Times,serif\" font-size=\"14.00\">+</text>\n",
       "</g>\n",
       "<!-- 140407048364560&#45;&gt;140407048365328+ -->\n",
       "<g id=\"edge12\" class=\"edge\">\n",
       "<title>140407048364560&#45;&gt;140407048365328+</title>\n",
       "<path fill=\"none\" stroke=\"black\" d=\"M1086.58,-118.51C1100.66,-120.21 1113.84,-121.8 1125.09,-123.16\"/>\n",
       "<polygon fill=\"black\" stroke=\"black\" points=\"1124.89,-126.66 1135.24,-124.39 1125.73,-119.71 1124.89,-126.66\"/>\n",
       "</g>\n",
       "<!-- 140407048364560+&#45;&gt;140407048364560 -->\n",
       "<g id=\"edge2\" class=\"edge\">\n",
       "<title>140407048364560+&#45;&gt;140407048364560</title>\n",
       "<path fill=\"none\" stroke=\"black\" d=\"M738.08,-100.5C745.51,-100.5 754.21,-100.5 763.74,-100.5\"/>\n",
       "<polygon fill=\"black\" stroke=\"black\" points=\"763.95,-104 773.95,-100.5 763.95,-97 763.95,-104\"/>\n",
       "</g>\n",
       "<!-- 140407049082768 -->\n",
       "<g id=\"node5\" class=\"node\">\n",
       "<title>140407049082768</title>\n",
       "<polygon fill=\"none\" stroke=\"black\" points=\"4.5,-55.5 4.5,-91.5 244.5,-91.5 244.5,-55.5 4.5,-55.5\"/>\n",
       "<text text-anchor=\"middle\" x=\"21.5\" y=\"-69.8\" font-family=\"Times,serif\" font-size=\"14.00\">x2</text>\n",
       "<polyline fill=\"none\" stroke=\"black\" points=\"38.5,-55.5 38.5,-91.5 \"/>\n",
       "<text text-anchor=\"middle\" x=\"89.5\" y=\"-69.8\" font-family=\"Times,serif\" font-size=\"14.00\">data 0.0000</text>\n",
       "<polyline fill=\"none\" stroke=\"black\" points=\"140.5,-55.5 140.5,-91.5 \"/>\n",
       "<text text-anchor=\"middle\" x=\"192.5\" y=\"-69.8\" font-family=\"Times,serif\" font-size=\"14.00\">grad 0.5000</text>\n",
       "</g>\n",
       "<!-- 140407049082768&#45;&gt;140407049086480* -->\n",
       "<g id=\"edge6\" class=\"edge\">\n",
       "<title>140407049082768&#45;&gt;140407049086480*</title>\n",
       "<path fill=\"none\" stroke=\"black\" d=\"M244.55,-73.5C255.31,-73.5 265.54,-73.5 274.62,-73.5\"/>\n",
       "<polygon fill=\"black\" stroke=\"black\" points=\"274.7,-77 284.7,-73.5 274.7,-70 274.7,-77\"/>\n",
       "</g>\n",
       "<!-- 140407049566928 -->\n",
       "<g id=\"node6\" class=\"node\">\n",
       "<title>140407049566928</title>\n",
       "<polygon fill=\"none\" stroke=\"black\" points=\"375,-110.5 375,-146.5 648,-146.5 648,-110.5 375,-110.5\"/>\n",
       "<text text-anchor=\"middle\" x=\"406\" y=\"-124.8\" font-family=\"Times,serif\" font-size=\"14.00\">x1*w1</text>\n",
       "<polyline fill=\"none\" stroke=\"black\" points=\"437,-110.5 437,-146.5 \"/>\n",
       "<text text-anchor=\"middle\" x=\"490.5\" y=\"-124.8\" font-family=\"Times,serif\" font-size=\"14.00\">data &#45;6.0000</text>\n",
       "<polyline fill=\"none\" stroke=\"black\" points=\"544,-110.5 544,-146.5 \"/>\n",
       "<text text-anchor=\"middle\" x=\"596\" y=\"-124.8\" font-family=\"Times,serif\" font-size=\"14.00\">grad 0.5000</text>\n",
       "</g>\n",
       "<!-- 140407049566928&#45;&gt;140407048364560+ -->\n",
       "<g id=\"edge14\" class=\"edge\">\n",
       "<title>140407049566928&#45;&gt;140407048364560+</title>\n",
       "<path fill=\"none\" stroke=\"black\" d=\"M639.53,-110.49C652.09,-108.71 663.99,-107.02 674.3,-105.56\"/>\n",
       "<polygon fill=\"black\" stroke=\"black\" points=\"675.03,-108.99 684.44,-104.12 674.05,-102.06 675.03,-108.99\"/>\n",
       "</g>\n",
       "<!-- 140407049566928* -->\n",
       "<g id=\"node7\" class=\"node\">\n",
       "<title>140407049566928*</title>\n",
       "<ellipse fill=\"none\" stroke=\"black\" cx=\"312\" cy=\"-128.5\" rx=\"27\" ry=\"18\"/>\n",
       "<text text-anchor=\"middle\" x=\"312\" y=\"-124.8\" font-family=\"Times,serif\" font-size=\"14.00\">*</text>\n",
       "</g>\n",
       "<!-- 140407049566928*&#45;&gt;140407049566928 -->\n",
       "<g id=\"edge3\" class=\"edge\">\n",
       "<title>140407049566928*&#45;&gt;140407049566928</title>\n",
       "<path fill=\"none\" stroke=\"black\" d=\"M339.23,-128.5C346.7,-128.5 355.41,-128.5 364.87,-128.5\"/>\n",
       "<polygon fill=\"black\" stroke=\"black\" points=\"364.98,-132 374.98,-128.5 364.98,-125 364.98,-132\"/>\n",
       "</g>\n",
       "<!-- 140407048365328 -->\n",
       "<g id=\"node8\" class=\"node\">\n",
       "<title>140407048365328</title>\n",
       "<polygon fill=\"none\" stroke=\"black\" points=\"1225,-109.5 1225,-145.5 1457,-145.5 1457,-109.5 1225,-109.5\"/>\n",
       "<text text-anchor=\"middle\" x=\"1238\" y=\"-123.8\" font-family=\"Times,serif\" font-size=\"14.00\">n</text>\n",
       "<polyline fill=\"none\" stroke=\"black\" points=\"1251,-109.5 1251,-145.5 \"/>\n",
       "<text text-anchor=\"middle\" x=\"1302\" y=\"-123.8\" font-family=\"Times,serif\" font-size=\"14.00\">data 0.8814</text>\n",
       "<polyline fill=\"none\" stroke=\"black\" points=\"1353,-109.5 1353,-145.5 \"/>\n",
       "<text text-anchor=\"middle\" x=\"1405\" y=\"-123.8\" font-family=\"Times,serif\" font-size=\"14.00\">grad 0.5000</text>\n",
       "</g>\n",
       "<!-- 140407048368016tanh -->\n",
       "<g id=\"node14\" class=\"node\">\n",
       "<title>140407048368016tanh</title>\n",
       "<ellipse fill=\"none\" stroke=\"black\" cx=\"1524.85\" cy=\"-127.5\" rx=\"31.7\" ry=\"18\"/>\n",
       "<text text-anchor=\"middle\" x=\"1524.85\" y=\"-123.8\" font-family=\"Times,serif\" font-size=\"14.00\">tanh</text>\n",
       "</g>\n",
       "<!-- 140407048365328&#45;&gt;140407048368016tanh -->\n",
       "<g id=\"edge8\" class=\"edge\">\n",
       "<title>140407048365328&#45;&gt;140407048368016tanh</title>\n",
       "<path fill=\"none\" stroke=\"black\" d=\"M1457.17,-127.5C1466.08,-127.5 1474.66,-127.5 1482.53,-127.5\"/>\n",
       "<polygon fill=\"black\" stroke=\"black\" points=\"1482.78,-131 1492.78,-127.5 1482.78,-124 1482.78,-131\"/>\n",
       "</g>\n",
       "<!-- 140407048365328+&#45;&gt;140407048365328 -->\n",
       "<g id=\"edge4\" class=\"edge\">\n",
       "<title>140407048365328+&#45;&gt;140407048365328</title>\n",
       "<path fill=\"none\" stroke=\"black\" d=\"M1189.12,-127.5C1196.53,-127.5 1205.14,-127.5 1214.4,-127.5\"/>\n",
       "<polygon fill=\"black\" stroke=\"black\" points=\"1214.69,-131 1224.69,-127.5 1214.69,-124 1214.69,-131\"/>\n",
       "</g>\n",
       "<!-- 140407049082640 -->\n",
       "<g id=\"node10\" class=\"node\">\n",
       "<title>140407049082640</title>\n",
       "<polygon fill=\"none\" stroke=\"black\" points=\"820.5,-137.5 820.5,-173.5 1052.5,-173.5 1052.5,-137.5 820.5,-137.5\"/>\n",
       "<text text-anchor=\"middle\" x=\"833.5\" y=\"-151.8\" font-family=\"Times,serif\" font-size=\"14.00\">b</text>\n",
       "<polyline fill=\"none\" stroke=\"black\" points=\"846.5,-137.5 846.5,-173.5 \"/>\n",
       "<text text-anchor=\"middle\" x=\"897.5\" y=\"-151.8\" font-family=\"Times,serif\" font-size=\"14.00\">data 6.8814</text>\n",
       "<polyline fill=\"none\" stroke=\"black\" points=\"948.5,-137.5 948.5,-173.5 \"/>\n",
       "<text text-anchor=\"middle\" x=\"1000.5\" y=\"-151.8\" font-family=\"Times,serif\" font-size=\"14.00\">grad 0.5000</text>\n",
       "</g>\n",
       "<!-- 140407049082640&#45;&gt;140407048365328+ -->\n",
       "<g id=\"edge13\" class=\"edge\">\n",
       "<title>140407049082640&#45;&gt;140407048365328+</title>\n",
       "<path fill=\"none\" stroke=\"black\" d=\"M1052.52,-141.09C1079,-137.77 1105.23,-134.49 1125.26,-131.98\"/>\n",
       "<polygon fill=\"black\" stroke=\"black\" points=\"1125.94,-135.42 1135.43,-130.7 1125.07,-128.47 1125.94,-135.42\"/>\n",
       "</g>\n",
       "<!-- 140407049080656 -->\n",
       "<g id=\"node11\" class=\"node\">\n",
       "<title>140407049080656</title>\n",
       "<polygon fill=\"none\" stroke=\"black\" points=\"2.5,-0.5 2.5,-36.5 246.5,-36.5 246.5,-0.5 2.5,-0.5\"/>\n",
       "<text text-anchor=\"middle\" x=\"21.5\" y=\"-14.8\" font-family=\"Times,serif\" font-size=\"14.00\">w2</text>\n",
       "<polyline fill=\"none\" stroke=\"black\" points=\"40.5,-0.5 40.5,-36.5 \"/>\n",
       "<text text-anchor=\"middle\" x=\"91.5\" y=\"-14.8\" font-family=\"Times,serif\" font-size=\"14.00\">data 1.0000</text>\n",
       "<polyline fill=\"none\" stroke=\"black\" points=\"142.5,-0.5 142.5,-36.5 \"/>\n",
       "<text text-anchor=\"middle\" x=\"194.5\" y=\"-14.8\" font-family=\"Times,serif\" font-size=\"14.00\">grad 0.0000</text>\n",
       "</g>\n",
       "<!-- 140407049080656&#45;&gt;140407049086480* -->\n",
       "<g id=\"edge7\" class=\"edge\">\n",
       "<title>140407049080656&#45;&gt;140407049086480*</title>\n",
       "<path fill=\"none\" stroke=\"black\" d=\"M214.42,-36.55C226.15,-39.54 237.93,-42.87 249,-46.5 259.46,-49.93 270.57,-54.47 280.46,-58.84\"/>\n",
       "<polygon fill=\"black\" stroke=\"black\" points=\"279.31,-62.17 289.87,-63.12 282.21,-55.79 279.31,-62.17\"/>\n",
       "</g>\n",
       "<!-- 140407049089872 -->\n",
       "<g id=\"node12\" class=\"node\">\n",
       "<title>140407049089872</title>\n",
       "<polygon fill=\"none\" stroke=\"black\" points=\"0,-165.5 0,-201.5 249,-201.5 249,-165.5 0,-165.5\"/>\n",
       "<text text-anchor=\"middle\" x=\"19\" y=\"-179.8\" font-family=\"Times,serif\" font-size=\"14.00\">w1</text>\n",
       "<polyline fill=\"none\" stroke=\"black\" points=\"38,-165.5 38,-201.5 \"/>\n",
       "<text text-anchor=\"middle\" x=\"91.5\" y=\"-179.8\" font-family=\"Times,serif\" font-size=\"14.00\">data &#45;3.0000</text>\n",
       "<polyline fill=\"none\" stroke=\"black\" points=\"145,-165.5 145,-201.5 \"/>\n",
       "<text text-anchor=\"middle\" x=\"197\" y=\"-179.8\" font-family=\"Times,serif\" font-size=\"14.00\">grad 1.0000</text>\n",
       "</g>\n",
       "<!-- 140407049089872&#45;&gt;140407049566928* -->\n",
       "<g id=\"edge9\" class=\"edge\">\n",
       "<title>140407049089872&#45;&gt;140407049566928*</title>\n",
       "<path fill=\"none\" stroke=\"black\" d=\"M218.13,-165.46C228.63,-162.77 239.1,-159.78 249,-156.5 259.71,-152.96 271.05,-148.16 281.07,-143.54\"/>\n",
       "<polygon fill=\"black\" stroke=\"black\" points=\"282.67,-146.66 290.2,-139.21 279.67,-140.33 282.67,-146.66\"/>\n",
       "</g>\n",
       "<!-- 140407048368016 -->\n",
       "<g id=\"node13\" class=\"node\">\n",
       "<title>140407048368016</title>\n",
       "<polygon fill=\"none\" stroke=\"black\" points=\"1592.69,-109.5 1592.69,-145.5 1823.69,-145.5 1823.69,-109.5 1592.69,-109.5\"/>\n",
       "<text text-anchor=\"middle\" x=\"1605.19\" y=\"-123.8\" font-family=\"Times,serif\" font-size=\"14.00\">o</text>\n",
       "<polyline fill=\"none\" stroke=\"black\" points=\"1617.69,-109.5 1617.69,-145.5 \"/>\n",
       "<text text-anchor=\"middle\" x=\"1668.69\" y=\"-123.8\" font-family=\"Times,serif\" font-size=\"14.00\">data 0.7071</text>\n",
       "<polyline fill=\"none\" stroke=\"black\" points=\"1719.69,-109.5 1719.69,-145.5 \"/>\n",
       "<text text-anchor=\"middle\" x=\"1771.69\" y=\"-123.8\" font-family=\"Times,serif\" font-size=\"14.00\">grad 1.0000</text>\n",
       "</g>\n",
       "<!-- 140407048368016tanh&#45;&gt;140407048368016 -->\n",
       "<g id=\"edge5\" class=\"edge\">\n",
       "<title>140407048368016tanh&#45;&gt;140407048368016</title>\n",
       "<path fill=\"none\" stroke=\"black\" d=\"M1557.02,-127.5C1564.61,-127.5 1573.19,-127.5 1582.31,-127.5\"/>\n",
       "<polygon fill=\"black\" stroke=\"black\" points=\"1582.4,-131 1592.4,-127.5 1582.4,-124 1582.4,-131\"/>\n",
       "</g>\n",
       "<!-- 140407049090000 -->\n",
       "<g id=\"node15\" class=\"node\">\n",
       "<title>140407049090000</title>\n",
       "<polygon fill=\"none\" stroke=\"black\" points=\"2.5,-110.5 2.5,-146.5 246.5,-146.5 246.5,-110.5 2.5,-110.5\"/>\n",
       "<text text-anchor=\"middle\" x=\"19.5\" y=\"-124.8\" font-family=\"Times,serif\" font-size=\"14.00\">x1</text>\n",
       "<polyline fill=\"none\" stroke=\"black\" points=\"36.5,-110.5 36.5,-146.5 \"/>\n",
       "<text text-anchor=\"middle\" x=\"87.5\" y=\"-124.8\" font-family=\"Times,serif\" font-size=\"14.00\">data 2.0000</text>\n",
       "<polyline fill=\"none\" stroke=\"black\" points=\"138.5,-110.5 138.5,-146.5 \"/>\n",
       "<text text-anchor=\"middle\" x=\"192.5\" y=\"-124.8\" font-family=\"Times,serif\" font-size=\"14.00\">grad &#45;1.5000</text>\n",
       "</g>\n",
       "<!-- 140407049090000&#45;&gt;140407049566928* -->\n",
       "<g id=\"edge11\" class=\"edge\">\n",
       "<title>140407049090000&#45;&gt;140407049566928*</title>\n",
       "<path fill=\"none\" stroke=\"black\" d=\"M246.64,-128.5C256.7,-128.5 266.26,-128.5 274.79,-128.5\"/>\n",
       "<polygon fill=\"black\" stroke=\"black\" points=\"275,-132 285,-128.5 275,-125 275,-132\"/>\n",
       "</g>\n",
       "</g>\n",
       "</svg>\n"
      ],
      "text/plain": [
       "<graphviz.graphs.Digraph at 0x7fb3104b3210>"
      ]
     },
     "execution_count": 164,
     "metadata": {},
     "output_type": "execute_result"
    }
   ],
   "source": [
    "draw_dot(o)"
   ]
  },
  {
   "cell_type": "code",
   "execution_count": 127,
   "id": "2d3ae677-fdcb-44ef-a1b2-f62eb6d58dca",
   "metadata": {
    "tags": []
   },
   "outputs": [],
   "source": [
    "# finally, just automatically calculate backward values\n",
    "# we'll organize the graph via topological sort, defined here:\n",
    "topo = []\n",
    "visited = set()"
   ]
  },
  {
   "cell_type": "code",
   "execution_count": 128,
   "id": "c98f3d34-e4ee-452e-a516-47a8126c869c",
   "metadata": {
    "tags": []
   },
   "outputs": [
    {
     "data": {
      "text/plain": [
       "[Value(data=6.881373587019543),\n",
       " Value(data=1.0),\n",
       " Value(data=0.0),\n",
       " Value(data=0.0),\n",
       " Value(data=-3.0),\n",
       " Value(data=2.0),\n",
       " Value(data=-6.0),\n",
       " Value(data=-6.0),\n",
       " Value(data=0.8813735870195432),\n",
       " Value(data=0.7071067811865476)]"
      ]
     },
     "execution_count": 128,
     "metadata": {},
     "output_type": "execute_result"
    }
   ],
   "source": [
    "build_topo(o) # note that we set the base case o.grad = 1.0\n",
    "topo"
   ]
  },
  {
   "cell_type": "code",
   "execution_count": 155,
   "id": "a18a4950-9711-4834-a2be-a91577a3dc75",
   "metadata": {
    "tags": []
   },
   "outputs": [],
   "source": [
    "o.backward()"
   ]
  },
  {
   "cell_type": "code",
   "execution_count": null,
   "id": "f69c2818-fcc0-4ca5-9b36-f03eb576b324",
   "metadata": {},
   "outputs": [],
   "source": []
  }
 ],
 "metadata": {
  "kernelspec": {
   "display_name": "Python 3 (ipykernel)",
   "language": "python",
   "name": "python3"
  },
  "language_info": {
   "codemirror_mode": {
    "name": "ipython",
    "version": 3
   },
   "file_extension": ".py",
   "mimetype": "text/x-python",
   "name": "python",
   "nbconvert_exporter": "python",
   "pygments_lexer": "ipython3",
   "version": "3.11.2"
  }
 },
 "nbformat": 4,
 "nbformat_minor": 5
}
